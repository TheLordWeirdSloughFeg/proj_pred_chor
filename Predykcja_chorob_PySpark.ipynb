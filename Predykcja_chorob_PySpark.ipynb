{
 "cells": [
  {
   "cell_type": "code",
   "execution_count": 789,
   "id": "8d68a7a6",
   "metadata": {},
   "outputs": [],
   "source": [
    "from pyspark.sql import SparkSession"
   ]
  },
  {
   "cell_type": "code",
   "execution_count": 790,
   "id": "637bb4be",
   "metadata": {},
   "outputs": [],
   "source": [
    "#Mozemy pobawic sie interfejsem uzytkownika\n",
    "#from pyspark import SparkContext\n",
    "#sc = SparkContext(master = 'local[2]')\n",
    "#sc"
   ]
  },
  {
   "cell_type": "code",
   "execution_count": 791,
   "id": "986fbf1a",
   "metadata": {},
   "outputs": [],
   "source": [
    "spark = SparkSession.builder.appName(\"MLwithSpark\").getOrCreate()"
   ]
  },
  {
   "cell_type": "markdown",
   "id": "9355d09f",
   "metadata": {},
   "source": [
    "### Firma Analit specjalizujaca sie w analizach zlecila mi opracowanie modelu szybkiego wykrywania chorob wartoby u pacjentow"
   ]
  },
  {
   "cell_type": "code",
   "execution_count": 792,
   "id": "9fb11ac8",
   "metadata": {},
   "outputs": [],
   "source": [
    "# Predykcja czy pacjent jest chory na WZW typu C czy nie"
   ]
  },
  {
   "cell_type": "code",
   "execution_count": 793,
   "id": "7b041660",
   "metadata": {},
   "outputs": [],
   "source": [
    "df_0 = spark.read.csv(\"dane_hcvcsv\", header = True)"
   ]
  },
  {
   "cell_type": "code",
   "execution_count": 794,
   "id": "d1033430",
   "metadata": {},
   "outputs": [
    {
     "name": "stdout",
     "output_type": "stream",
     "text": [
      "+---+-------------+---+---+----+----+----+----+----+-----+----+----+----+----+\n",
      "|_c0|     Category|Age|Sex| ALB| ALP| ALT| AST| BIL|  CHE|CHOL|CREA| GGT|PROT|\n",
      "+---+-------------+---+---+----+----+----+----+----+-----+----+----+----+----+\n",
      "|  1|0=Blood Donor| 32|  m|38.5|52.5| 7.7|22.1| 7.5| 6.93|3.23| 106|12.1|  69|\n",
      "|  2|0=Blood Donor| 32|  m|38.5|70.3|  18|24.7| 3.9|11.17| 4.8|  74|15.6|76.5|\n",
      "|  3|0=Blood Donor| 32|  m|46.9|74.7|36.2|52.6| 6.1| 8.84| 5.2|  86|33.2|79.3|\n",
      "|  4|0=Blood Donor| 32|  m|43.2|  52|30.6|22.6|18.9| 7.33|4.74|  80|33.8|75.7|\n",
      "|  5|0=Blood Donor| 32|  m|39.2|74.1|32.6|24.8| 9.6| 9.15|4.32|  76|29.9|68.7|\n",
      "|  6|0=Blood Donor| 32|  m|41.6|43.3|18.5|19.7|12.3| 9.92|6.05| 111|  91|  74|\n",
      "|  7|0=Blood Donor| 32|  m|46.3|41.3|17.5|17.8| 8.5| 7.01|4.79|  70|16.9|74.5|\n",
      "|  8|0=Blood Donor| 32|  m|42.2|41.9|35.8|31.1|16.1| 5.82| 4.6| 109|21.5|67.1|\n",
      "|  9|0=Blood Donor| 32|  m|50.9|65.5|23.2|21.2| 6.9| 8.69| 4.1|  83|13.7|71.3|\n",
      "| 10|0=Blood Donor| 32|  m|42.4|86.3|20.3|  20|35.2| 5.46|4.45|  81|15.9|69.9|\n",
      "| 11|0=Blood Donor| 32|  m|44.3|52.3|21.7|22.4|17.2| 4.15|3.57|  78|24.1|75.4|\n",
      "| 12|0=Blood Donor| 33|  m|46.4|68.2|10.3|  20| 5.7| 7.36| 4.3|  79|18.7|68.6|\n",
      "| 13|0=Blood Donor| 33|  m|36.3|78.6|23.6|  22|   7| 8.56|5.38|  78|19.4|68.7|\n",
      "| 14|0=Blood Donor| 33|  m|  39|51.7|15.9|  24| 6.8| 6.46|3.38|  65|   7|70.4|\n",
      "| 15|0=Blood Donor| 33|  m|38.7|39.8|22.5|  23| 4.1| 4.63|4.97|  63|15.2|71.9|\n",
      "| 16|0=Blood Donor| 33|  m|41.8|  65|33.1|  38| 6.6| 8.83|4.43|  71|  24|72.7|\n",
      "| 17|0=Blood Donor| 33|  m|40.9|  73|17.2|22.9|  10| 6.98|5.22|  90|14.7|72.4|\n",
      "| 18|0=Blood Donor| 33|  m|45.2|88.3|32.4|31.2|10.1| 9.78|5.51| 102|48.5|76.5|\n",
      "| 19|0=Blood Donor| 33|  m|36.6|57.1|38.9|40.3|24.9| 9.62| 5.5| 112|27.6|69.3|\n",
      "| 20|0=Blood Donor| 33|  m|  42|63.1|32.6|34.9|11.2| 7.01|4.05| 105|19.1|68.1|\n",
      "+---+-------------+---+---+----+----+----+----+----+-----+----+----+----+----+\n",
      "only showing top 20 rows\n",
      "\n"
     ]
    },
    {
     "name": "stderr",
     "output_type": "stream",
     "text": [
      "22/01/21 18:15:35 WARN CSVHeaderChecker: CSV header does not conform to the schema.\n",
      " Header: , Category, Age, Sex, ALB, ALP, ALT, AST, BIL, CHE, CHOL, CREA, GGT, PROT\n",
      " Schema: _c0, Category, Age, Sex, ALB, ALP, ALT, AST, BIL, CHE, CHOL, CREA, GGT, PROT\n",
      "Expected: _c0 but found: \n",
      "CSV file: file:///home/student/dane_hcvcsv\n"
     ]
    }
   ],
   "source": [
    "df_0.show()"
   ]
  },
  {
   "cell_type": "code",
   "execution_count": 795,
   "id": "b7c0211e",
   "metadata": {},
   "outputs": [
    {
     "name": "stdout",
     "output_type": "stream",
     "text": [
      "['_c0', 'Category', 'Age', 'Sex', 'ALB', 'ALP', 'ALT', 'AST', 'BIL', 'CHE', 'CHOL', 'CREA', 'GGT', 'PROT']\n"
     ]
    }
   ],
   "source": [
    "print(df_0.columns)"
   ]
  },
  {
   "cell_type": "code",
   "execution_count": 796,
   "id": "45c09677",
   "metadata": {},
   "outputs": [],
   "source": [
    "# Pozbywamy sie unikalnego id pacjenta"
   ]
  },
  {
   "cell_type": "code",
   "execution_count": 797,
   "id": "39d8fb20",
   "metadata": {},
   "outputs": [],
   "source": [
    "df_0 = df_0.select('Category','Age', 'Sex', 'ALB', 'ALP','ALT', 'AST', 'BIL', 'CHE', 'CHOL','CREA','GGT','PROT')"
   ]
  },
  {
   "cell_type": "code",
   "execution_count": 798,
   "id": "2b1fb256",
   "metadata": {},
   "outputs": [
    {
     "name": "stdout",
     "output_type": "stream",
     "text": [
      "+-------------+---+---+----+----+----+----+----+-----+----+----+----+----+\n",
      "|     Category|Age|Sex| ALB| ALP| ALT| AST| BIL|  CHE|CHOL|CREA| GGT|PROT|\n",
      "+-------------+---+---+----+----+----+----+----+-----+----+----+----+----+\n",
      "|0=Blood Donor| 32|  m|38.5|52.5| 7.7|22.1| 7.5| 6.93|3.23| 106|12.1|  69|\n",
      "|0=Blood Donor| 32|  m|38.5|70.3|  18|24.7| 3.9|11.17| 4.8|  74|15.6|76.5|\n",
      "|0=Blood Donor| 32|  m|46.9|74.7|36.2|52.6| 6.1| 8.84| 5.2|  86|33.2|79.3|\n",
      "|0=Blood Donor| 32|  m|43.2|  52|30.6|22.6|18.9| 7.33|4.74|  80|33.8|75.7|\n",
      "|0=Blood Donor| 32|  m|39.2|74.1|32.6|24.8| 9.6| 9.15|4.32|  76|29.9|68.7|\n",
      "|0=Blood Donor| 32|  m|41.6|43.3|18.5|19.7|12.3| 9.92|6.05| 111|  91|  74|\n",
      "|0=Blood Donor| 32|  m|46.3|41.3|17.5|17.8| 8.5| 7.01|4.79|  70|16.9|74.5|\n",
      "|0=Blood Donor| 32|  m|42.2|41.9|35.8|31.1|16.1| 5.82| 4.6| 109|21.5|67.1|\n",
      "|0=Blood Donor| 32|  m|50.9|65.5|23.2|21.2| 6.9| 8.69| 4.1|  83|13.7|71.3|\n",
      "|0=Blood Donor| 32|  m|42.4|86.3|20.3|  20|35.2| 5.46|4.45|  81|15.9|69.9|\n",
      "+-------------+---+---+----+----+----+----+----+-----+----+----+----+----+\n",
      "only showing top 10 rows\n",
      "\n"
     ]
    }
   ],
   "source": [
    "df_0.show(10)"
   ]
  },
  {
   "cell_type": "code",
   "execution_count": 799,
   "id": "77182e9b",
   "metadata": {},
   "outputs": [],
   "source": [
    "#sprawdzam jak zbalansowany jest zbior danych w zaleznosci od kategorii"
   ]
  },
  {
   "cell_type": "code",
   "execution_count": 800,
   "id": "4b2dd78f",
   "metadata": {},
   "outputs": [
    {
     "name": "stdout",
     "output_type": "stream",
     "text": [
      "+--------------------+-----+\n",
      "|            Category|count|\n",
      "+--------------------+-----+\n",
      "|       0=Blood Donor|  533|\n",
      "|         3=Cirrhosis|   30|\n",
      "|          2=Fibrosis|   21|\n",
      "|0s=suspect Blood ...|    7|\n",
      "|         1=Hepatitis|   24|\n",
      "+--------------------+-----+\n",
      "\n"
     ]
    }
   ],
   "source": [
    "df_0.groupBy(\"Category\").count().show()"
   ]
  },
  {
   "cell_type": "code",
   "execution_count": 801,
   "id": "51db76ab",
   "metadata": {},
   "outputs": [],
   "source": [
    "# Najwiecej jest zdrowych dawcow"
   ]
  },
  {
   "cell_type": "code",
   "execution_count": 802,
   "id": "e823a140",
   "metadata": {},
   "outputs": [],
   "source": [
    "# Teraz zanim zaczne zmianiac typy danych i obliczac wektory sprawdzam ile mam wartosci null i w zaleznosci od tego co mozna z nimi zrobic"
   ]
  },
  {
   "cell_type": "code",
   "execution_count": 803,
   "id": "18740ccc",
   "metadata": {},
   "outputs": [
    {
     "name": "stdout",
     "output_type": "stream",
     "text": [
      "+--------+---+---+---+---+---+---+---+---+----+----+---+----+\n",
      "|Category|Age|Sex|ALB|ALP|ALT|AST|BIL|CHE|CHOL|CREA|GGT|PROT|\n",
      "+--------+---+---+---+---+---+---+---+---+----+----+---+----+\n",
      "|       0|  0|  0|  0|  0|  0|  0|  0|  0|   0|   0|  0|   0|\n",
      "+--------+---+---+---+---+---+---+---+---+----+----+---+----+\n",
      "\n"
     ]
    }
   ],
   "source": [
    "from pyspark.sql.functions import isnan, when, count, col\n",
    "\n",
    "df_0.select([count(when(isnan(c), c)).alias(c) for c in df_0.columns]).show()"
   ]
  },
  {
   "cell_type": "code",
   "execution_count": 804,
   "id": "f2533291",
   "metadata": {},
   "outputs": [],
   "source": [
    "# Nie mam wartosci null jako takich, ale jeszcze zamienie wartosci NA na 0"
   ]
  },
  {
   "cell_type": "code",
   "execution_count": 805,
   "id": "1a8764bc",
   "metadata": {},
   "outputs": [],
   "source": [
    "df_ = df_0.toPandas().replace('NA',\"0\")"
   ]
  },
  {
   "cell_type": "code",
   "execution_count": 806,
   "id": "f0eb98dc",
   "metadata": {},
   "outputs": [],
   "source": [
    "df = spark.createDataFrame(df_)"
   ]
  },
  {
   "cell_type": "code",
   "execution_count": 807,
   "id": "b782a7fa",
   "metadata": {},
   "outputs": [
    {
     "data": {
      "text/plain": [
       "[('Category', 'string'),\n",
       " ('Age', 'string'),\n",
       " ('Sex', 'string'),\n",
       " ('ALB', 'string'),\n",
       " ('ALP', 'string'),\n",
       " ('ALT', 'string'),\n",
       " ('AST', 'string'),\n",
       " ('BIL', 'string'),\n",
       " ('CHE', 'string'),\n",
       " ('CHOL', 'string'),\n",
       " ('CREA', 'string'),\n",
       " ('GGT', 'string'),\n",
       " ('PROT', 'string')]"
      ]
     },
     "execution_count": 807,
     "metadata": {},
     "output_type": "execute_result"
    }
   ],
   "source": [
    "#sprawdzam typy danych\n",
    "df.dtypes"
   ]
  },
  {
   "cell_type": "markdown",
   "id": "c687fcd7",
   "metadata": {},
   "source": [
    "#### Wszystkie dane sa niestety stringami, lacznie z poszczegolnymi stezeniami. Musze zamienic kategorie oraz plec na int, a reszte na float"
   ]
  },
  {
   "cell_type": "markdown",
   "id": "6a82d119",
   "metadata": {},
   "source": [
    "#### Znajduje unikalne wartosci kolumn Category i Sex"
   ]
  },
  {
   "cell_type": "code",
   "execution_count": 808,
   "id": "75c43b82",
   "metadata": {},
   "outputs": [
    {
     "data": {
      "text/plain": [
       "[Row(Category='0=Blood Donor'),\n",
       " Row(Category='3=Cirrhosis'),\n",
       " Row(Category='2=Fibrosis'),\n",
       " Row(Category='0s=suspect Blood Donor'),\n",
       " Row(Category='1=Hepatitis')]"
      ]
     },
     "execution_count": 808,
     "metadata": {},
     "output_type": "execute_result"
    }
   ],
   "source": [
    "df.select('Category').distinct().collect()"
   ]
  },
  {
   "cell_type": "code",
   "execution_count": 809,
   "id": "549bb47f",
   "metadata": {},
   "outputs": [
    {
     "data": {
      "text/plain": [
       "[Row(Sex='m'), Row(Sex='f')]"
      ]
     },
     "execution_count": 809,
     "metadata": {},
     "output_type": "execute_result"
    }
   ],
   "source": [
    "df.select('Sex').distinct().collect()"
   ]
  },
  {
   "cell_type": "markdown",
   "id": "f21d926e",
   "metadata": {},
   "source": [
    "#### Nastepnie zamieniam na cyfry w nastepujacy sposob:\n",
    "a) 'Category'\n",
    "+ 0 - zdrowy dawca krwi\n",
    "+ 1 - podejrzany dawca krwi\n",
    "+ 2 - chory na zapalenie watroby\n",
    "+ 3 - chory na zwloknieine watroby\n",
    "+ 4 - chory na marskosc watroby\n",
    "\n",
    "b) 'Sex'\n",
    "+ 0 - m (mezczyzna)\n",
    "+ 1 - f (kobieta)"
   ]
  },
  {
   "cell_type": "code",
   "execution_count": 810,
   "id": "fbd1ad31",
   "metadata": {},
   "outputs": [],
   "source": [
    "df1 = df.toPandas().replace('0=Blood Donor',0)\\\n",
    ".replace('0s=suspect Blood Donor',1)\\\n",
    ".replace('1=Hepatitis',2)\\\n",
    ".replace('2=Fibrosis',3)\\\n",
    ".replace('3=Cirrhosis',4)"
   ]
  },
  {
   "cell_type": "code",
   "execution_count": 811,
   "id": "b520e72f",
   "metadata": {},
   "outputs": [],
   "source": [
    "# konwersja z powrotem do dataframe Sparka"
   ]
  },
  {
   "cell_type": "code",
   "execution_count": 812,
   "id": "b05061ec",
   "metadata": {},
   "outputs": [],
   "source": [
    "df_a = spark.createDataFrame(df1)"
   ]
  },
  {
   "cell_type": "code",
   "execution_count": 813,
   "id": "f6831260",
   "metadata": {},
   "outputs": [
    {
     "name": "stdout",
     "output_type": "stream",
     "text": [
      "+--------+---+---+----+----+----+----+----+-----+----+----+----+----+\n",
      "|Category|Age|Sex| ALB| ALP| ALT| AST| BIL|  CHE|CHOL|CREA| GGT|PROT|\n",
      "+--------+---+---+----+----+----+----+----+-----+----+----+----+----+\n",
      "|       0| 32|  m|38.5|52.5| 7.7|22.1| 7.5| 6.93|3.23| 106|12.1|  69|\n",
      "|       0| 32|  m|38.5|70.3|  18|24.7| 3.9|11.17| 4.8|  74|15.6|76.5|\n",
      "|       0| 32|  m|46.9|74.7|36.2|52.6| 6.1| 8.84| 5.2|  86|33.2|79.3|\n",
      "|       0| 32|  m|43.2|  52|30.6|22.6|18.9| 7.33|4.74|  80|33.8|75.7|\n",
      "|       0| 32|  m|39.2|74.1|32.6|24.8| 9.6| 9.15|4.32|  76|29.9|68.7|\n",
      "+--------+---+---+----+----+----+----+----+-----+----+----+----+----+\n",
      "only showing top 5 rows\n",
      "\n"
     ]
    }
   ],
   "source": [
    "df_a.show(5)"
   ]
  },
  {
   "cell_type": "code",
   "execution_count": 814,
   "id": "61bab8d5",
   "metadata": {},
   "outputs": [],
   "source": [
    "#### teraz plec"
   ]
  },
  {
   "cell_type": "code",
   "execution_count": 815,
   "id": "71da374c",
   "metadata": {},
   "outputs": [],
   "source": [
    "df_a =df_a.toPandas().replace('m',0).replace('f',1)"
   ]
  },
  {
   "cell_type": "code",
   "execution_count": 816,
   "id": "294221be",
   "metadata": {},
   "outputs": [],
   "source": [
    "df_b = spark.createDataFrame(df_a)"
   ]
  },
  {
   "cell_type": "code",
   "execution_count": 817,
   "id": "44aa4d3e",
   "metadata": {},
   "outputs": [
    {
     "data": {
      "text/plain": [
       "[('Category', 'bigint'),\n",
       " ('Age', 'string'),\n",
       " ('Sex', 'bigint'),\n",
       " ('ALB', 'string'),\n",
       " ('ALP', 'string'),\n",
       " ('ALT', 'string'),\n",
       " ('AST', 'string'),\n",
       " ('BIL', 'string'),\n",
       " ('CHE', 'string'),\n",
       " ('CHOL', 'string'),\n",
       " ('CREA', 'string'),\n",
       " ('GGT', 'string'),\n",
       " ('PROT', 'string')]"
      ]
     },
     "execution_count": 817,
     "metadata": {},
     "output_type": "execute_result"
    }
   ],
   "source": [
    "#sprawdzam znow typy danych\n",
    "df_b.dtypes"
   ]
  },
  {
   "cell_type": "code",
   "execution_count": 818,
   "id": "a0563ad0",
   "metadata": {},
   "outputs": [],
   "source": [
    "#Zamieniam nastepnie kolumny ze stezeniami na float, wiek na int"
   ]
  },
  {
   "cell_type": "code",
   "execution_count": 819,
   "id": "f99aa277",
   "metadata": {},
   "outputs": [],
   "source": [
    "from pyspark.sql.functions import col\n",
    "from pyspark.sql.types import DoubleType , IntegerType\n",
    "\n",
    "df_b = df_b.withColumn(\"Age\",col(\"Age\").cast(IntegerType()))\\\n",
    ".withColumn(\"ALB\",col(\"ALB\").cast(DoubleType()))\\\n",
    ".withColumn(\"ALP\",col(\"ALP\").cast(DoubleType()))\\\n",
    ".withColumn(\"ALT\",col(\"ALT\").cast(DoubleType()))\\\n",
    ".withColumn(\"AST\",col(\"AST\").cast(DoubleType()))\\\n",
    ".withColumn(\"BIL\",col(\"BIL\").cast(DoubleType()))\\\n",
    ".withColumn(\"CHE\",col(\"CHE\").cast(DoubleType()))\\\n",
    ".withColumn(\"CHOL\",col(\"CHOL\").cast(DoubleType()))\\\n",
    ".withColumn(\"CREA\",col(\"CREA\").cast(DoubleType()))\\\n",
    ".withColumn(\"GGT\",col(\"GGT\").cast(DoubleType()))\\\n",
    ".withColumn(\"PROT\",col(\"PROT\").cast(DoubleType()))"
   ]
  },
  {
   "cell_type": "code",
   "execution_count": 820,
   "id": "6d20e219",
   "metadata": {},
   "outputs": [
    {
     "data": {
      "text/plain": [
       "[('Category', 'bigint'),\n",
       " ('Age', 'int'),\n",
       " ('Sex', 'bigint'),\n",
       " ('ALB', 'double'),\n",
       " ('ALP', 'double'),\n",
       " ('ALT', 'double'),\n",
       " ('AST', 'double'),\n",
       " ('BIL', 'double'),\n",
       " ('CHE', 'double'),\n",
       " ('CHOL', 'double'),\n",
       " ('CREA', 'double'),\n",
       " ('GGT', 'double'),\n",
       " ('PROT', 'double')]"
      ]
     },
     "execution_count": 820,
     "metadata": {},
     "output_type": "execute_result"
    }
   ],
   "source": [
    "df_b.dtypes"
   ]
  },
  {
   "cell_type": "code",
   "execution_count": 821,
   "id": "47aef243",
   "metadata": {},
   "outputs": [],
   "source": [
    "#Wektoryzacja"
   ]
  },
  {
   "cell_type": "code",
   "execution_count": 822,
   "id": "a1f58938",
   "metadata": {},
   "outputs": [],
   "source": [
    "required_columns = [\"Category\",\"Age\",\"Sex\",\"ALB\",\"ALP\",\"ALT\",\"AST\",\"BIL\",\"CHE\",\"CHOL\",\"CREA\",\"GGT\",\"PROT\"]"
   ]
  },
  {
   "cell_type": "code",
   "execution_count": 823,
   "id": "4afeca0a",
   "metadata": {},
   "outputs": [],
   "source": [
    "from pyspark.ml.feature import VectorAssembler"
   ]
  },
  {
   "cell_type": "code",
   "execution_count": 824,
   "id": "695ed856",
   "metadata": {},
   "outputs": [],
   "source": [
    "#df_final = v.transform(vec).setHandleInvalid(\"skip\").transform(vec)"
   ]
  },
  {
   "cell_type": "code",
   "execution_count": 825,
   "id": "a44c1c3a",
   "metadata": {},
   "outputs": [],
   "source": [
    "v = VectorAssembler(inputCols=required_columns,outputCol = 'vectors')"
   ]
  },
  {
   "cell_type": "code",
   "execution_count": 826,
   "id": "fb572359",
   "metadata": {},
   "outputs": [],
   "source": [
    "vec = v.transform(df_b)"
   ]
  },
  {
   "cell_type": "code",
   "execution_count": 827,
   "id": "a225e6f2",
   "metadata": {},
   "outputs": [
    {
     "name": "stdout",
     "output_type": "stream",
     "text": [
      "+--------+---+---+----+----+----+----+----+-----+----+-----+----+----+--------------------+\n",
      "|Category|Age|Sex| ALB| ALP| ALT| AST| BIL|  CHE|CHOL| CREA| GGT|PROT|             vectors|\n",
      "+--------+---+---+----+----+----+----+----+-----+----+-----+----+----+--------------------+\n",
      "|       0| 32|  0|38.5|52.5| 7.7|22.1| 7.5| 6.93|3.23|106.0|12.1|69.0|[0.0,32.0,0.0,38....|\n",
      "|       0| 32|  0|38.5|70.3|18.0|24.7| 3.9|11.17| 4.8| 74.0|15.6|76.5|[0.0,32.0,0.0,38....|\n",
      "|       0| 32|  0|46.9|74.7|36.2|52.6| 6.1| 8.84| 5.2| 86.0|33.2|79.3|[0.0,32.0,0.0,46....|\n",
      "|       0| 32|  0|43.2|52.0|30.6|22.6|18.9| 7.33|4.74| 80.0|33.8|75.7|[0.0,32.0,0.0,43....|\n",
      "|       0| 32|  0|39.2|74.1|32.6|24.8| 9.6| 9.15|4.32| 76.0|29.9|68.7|[0.0,32.0,0.0,39....|\n",
      "|       0| 32|  0|41.6|43.3|18.5|19.7|12.3| 9.92|6.05|111.0|91.0|74.0|[0.0,32.0,0.0,41....|\n",
      "|       0| 32|  0|46.3|41.3|17.5|17.8| 8.5| 7.01|4.79| 70.0|16.9|74.5|[0.0,32.0,0.0,46....|\n",
      "|       0| 32|  0|42.2|41.9|35.8|31.1|16.1| 5.82| 4.6|109.0|21.5|67.1|[0.0,32.0,0.0,42....|\n",
      "|       0| 32|  0|50.9|65.5|23.2|21.2| 6.9| 8.69| 4.1| 83.0|13.7|71.3|[0.0,32.0,0.0,50....|\n",
      "|       0| 32|  0|42.4|86.3|20.3|20.0|35.2| 5.46|4.45| 81.0|15.9|69.9|[0.0,32.0,0.0,42....|\n",
      "+--------+---+---+----+----+----+----+----+-----+----+-----+----+----+--------------------+\n",
      "only showing top 10 rows\n",
      "\n"
     ]
    }
   ],
   "source": [
    "vec.show(10)"
   ]
  },
  {
   "cell_type": "code",
   "execution_count": 828,
   "id": "5c5e442a",
   "metadata": {},
   "outputs": [
    {
     "name": "stdout",
     "output_type": "stream",
     "text": [
      "root\n",
      " |-- Category: long (nullable = true)\n",
      " |-- Age: integer (nullable = true)\n",
      " |-- Sex: long (nullable = true)\n",
      " |-- ALB: double (nullable = true)\n",
      " |-- ALP: double (nullable = true)\n",
      " |-- ALT: double (nullable = true)\n",
      " |-- AST: double (nullable = true)\n",
      " |-- BIL: double (nullable = true)\n",
      " |-- CHE: double (nullable = true)\n",
      " |-- CHOL: double (nullable = true)\n",
      " |-- CREA: double (nullable = true)\n",
      " |-- GGT: double (nullable = true)\n",
      " |-- PROT: double (nullable = true)\n",
      " |-- vectors: vector (nullable = true)\n",
      "\n"
     ]
    }
   ],
   "source": [
    "vec.printSchema()"
   ]
  },
  {
   "cell_type": "code",
   "execution_count": 829,
   "id": "4589044c",
   "metadata": {},
   "outputs": [],
   "source": [
    "#Podzial na zbior testowy i treningowy"
   ]
  },
  {
   "cell_type": "code",
   "execution_count": 830,
   "id": "f09294ce",
   "metadata": {},
   "outputs": [],
   "source": [
    "train_df, test_df = vec.randomSplit([0.7,0.3])"
   ]
  },
  {
   "cell_type": "code",
   "execution_count": 831,
   "id": "17e751e9",
   "metadata": {},
   "outputs": [
    {
     "data": {
      "text/plain": [
       "186"
      ]
     },
     "execution_count": 831,
     "metadata": {},
     "output_type": "execute_result"
    }
   ],
   "source": [
    "test_df.count()"
   ]
  },
  {
   "cell_type": "code",
   "execution_count": 832,
   "id": "a7d348da",
   "metadata": {},
   "outputs": [
    {
     "data": {
      "text/plain": [
       "429"
      ]
     },
     "execution_count": 832,
     "metadata": {},
     "output_type": "execute_result"
    }
   ],
   "source": [
    "train_df.count()"
   ]
  },
  {
   "cell_type": "code",
   "execution_count": 833,
   "id": "34cd81b3",
   "metadata": {},
   "outputs": [],
   "source": [
    "#Zbudowanie modelu regresji logistycznej i drzewa decyzynego"
   ]
  },
  {
   "cell_type": "code",
   "execution_count": 834,
   "id": "79ef1c42",
   "metadata": {},
   "outputs": [],
   "source": [
    "from pyspark.ml.classification import LogisticRegression, DecisionTreeClassifier"
   ]
  },
  {
   "cell_type": "code",
   "execution_count": 835,
   "id": "ba7f6e20",
   "metadata": {},
   "outputs": [],
   "source": [
    "lr = LogisticRegression(featuresCol='vectors', labelCol=\"Category\")"
   ]
  },
  {
   "cell_type": "code",
   "execution_count": 836,
   "id": "66c220a4",
   "metadata": {},
   "outputs": [],
   "source": [
    "model_lr = lr.fit(train_df)"
   ]
  },
  {
   "cell_type": "code",
   "execution_count": 837,
   "id": "843572d7",
   "metadata": {},
   "outputs": [],
   "source": [
    "predict_y = model_lr.transform(test_df)"
   ]
  },
  {
   "cell_type": "code",
   "execution_count": 838,
   "id": "152e470e",
   "metadata": {},
   "outputs": [],
   "source": [
    "#predict_y.show()"
   ]
  },
  {
   "cell_type": "code",
   "execution_count": 839,
   "id": "32ec71dc",
   "metadata": {},
   "outputs": [
    {
     "name": "stdout",
     "output_type": "stream",
     "text": [
      "['Category', 'Age', 'Sex', 'ALB', 'ALP', 'ALT', 'AST', 'BIL', 'CHE', 'CHOL', 'CREA', 'GGT', 'PROT', 'vectors', 'rawPrediction', 'probability', 'prediction']\n"
     ]
    }
   ],
   "source": [
    "print(predict_y.columns)"
   ]
  },
  {
   "cell_type": "code",
   "execution_count": 840,
   "id": "41a50599",
   "metadata": {},
   "outputs": [
    {
     "name": "stdout",
     "output_type": "stream",
     "text": [
      "+--------+--------------------+--------------------+----------+\n",
      "|Category|       rawPrediction|         probability|prediction|\n",
      "+--------+--------------------+--------------------+----------+\n",
      "|       0|[569.826313030913...|[1.0,0.0,9.784442...|       0.0|\n",
      "|       0|[509.946862212935...|[1.0,9.1867475356...|       0.0|\n",
      "|       0|[545.063264020359...|[1.0,0.0,8.736686...|       0.0|\n",
      "|       0|[661.932529334860...|[1.0,0.0,3.562056...|       0.0|\n",
      "|       0|[572.779961129525...|[1.0,7.0264065784...|       0.0|\n",
      "|       0|[553.828637273270...|[1.0,0.0,5.986596...|       0.0|\n",
      "|       0|[582.713651657958...|[1.0,0.0,9.944532...|       0.0|\n",
      "|       0|[647.450835691861...|[1.0,0.0,1.545629...|       0.0|\n",
      "|       0|[625.061340742442...|[1.0,0.0,2.496758...|       0.0|\n",
      "|       0|[633.126259383484...|[1.0,0.0,1.134518...|       0.0|\n",
      "|       0|[678.348953546221...|[1.0,0.0,2.653917...|       0.0|\n",
      "|       0|[607.120201082369...|[1.0,0.0,4.358761...|       0.0|\n",
      "|       0|[677.468400701193...|[1.0,0.0,2.512362...|       0.0|\n",
      "|       0|[637.304213040038...|[1.0,0.0,2.115691...|       0.0|\n",
      "|       0|[807.502557288619...|[1.0,0.0,1.893881...|       0.0|\n",
      "|       0|[540.302517595097...|[1.0,0.0,4.258448...|       0.0|\n",
      "|       0|[609.316133877250...|[1.0,0.0,3.687155...|       0.0|\n",
      "|       0|[702.502578624725...|[1.0,0.0,2.923287...|       0.0|\n",
      "|       0|[554.272351029559...|[1.0,1.9777046601...|       0.0|\n",
      "|       0|[588.061961201588...|[1.0,0.0,2.708377...|       0.0|\n",
      "+--------+--------------------+--------------------+----------+\n",
      "only showing top 20 rows\n",
      "\n"
     ]
    }
   ],
   "source": [
    "predict_y.select('Category','rawPrediction', 'probability', 'prediction').show()"
   ]
  },
  {
   "cell_type": "code",
   "execution_count": 841,
   "id": "97bcb8f5",
   "metadata": {},
   "outputs": [],
   "source": [
    "#Przed porownaniem zmieniam typ danych w kolumnie \"Category\" na double, bo inaczej nie porowna"
   ]
  },
  {
   "cell_type": "code",
   "execution_count": 842,
   "id": "a77bcb91",
   "metadata": {},
   "outputs": [],
   "source": [
    "pred_y = predict_y.withColumn('Category',col('Category').cast(DoubleType()))"
   ]
  },
  {
   "cell_type": "markdown",
   "id": "b6b7115b",
   "metadata": {},
   "source": [
    "#### Ocena modulu"
   ]
  },
  {
   "cell_type": "code",
   "execution_count": 843,
   "id": "b9d51ef6",
   "metadata": {},
   "outputs": [],
   "source": [
    "# Dokladnosc"
   ]
  },
  {
   "cell_type": "code",
   "execution_count": 844,
   "id": "4b0277ab",
   "metadata": {},
   "outputs": [],
   "source": [
    "from pyspark.ml.evaluation import MulticlassClassificationEvaluator"
   ]
  },
  {
   "cell_type": "code",
   "execution_count": 845,
   "id": "9ed78029",
   "metadata": {},
   "outputs": [],
   "source": [
    "multiclass_eval = MulticlassClassificationEvaluator(labelCol='Category', metricName ='accuracy')"
   ]
  },
  {
   "cell_type": "code",
   "execution_count": 846,
   "id": "8c88d808",
   "metadata": {},
   "outputs": [
    {
     "data": {
      "text/plain": [
       "0.9838709677419355"
      ]
     },
     "execution_count": 846,
     "metadata": {},
     "output_type": "execute_result"
    }
   ],
   "source": [
    "multiclass_eval.evaluate(pred_y)"
   ]
  },
  {
   "cell_type": "code",
   "execution_count": 847,
   "id": "09968270",
   "metadata": {},
   "outputs": [],
   "source": [
    "# Precyzja, F1, recall"
   ]
  },
  {
   "cell_type": "code",
   "execution_count": 848,
   "id": "a3a40c2a",
   "metadata": {},
   "outputs": [],
   "source": [
    "from pyspark.mllib.evaluation import MulticlassMetrics"
   ]
  },
  {
   "cell_type": "code",
   "execution_count": 849,
   "id": "741a48dc",
   "metadata": {},
   "outputs": [],
   "source": [
    "# porownuje kategorie pacjenta z przewidziana, wybieram te kolumny ze zbioru przewidywanego predict_y"
   ]
  },
  {
   "cell_type": "code",
   "execution_count": 850,
   "id": "a2d8d653",
   "metadata": {},
   "outputs": [],
   "source": [
    "metrics_lr = MulticlassMetrics(pred_y['Category', 'prediction'].rdd)"
   ]
  },
  {
   "cell_type": "code",
   "execution_count": 851,
   "id": "bfd77453",
   "metadata": {},
   "outputs": [],
   "source": [
    "#dir(metrics_lr)"
   ]
  },
  {
   "cell_type": "code",
   "execution_count": 852,
   "id": "2d110d6f",
   "metadata": {},
   "outputs": [
    {
     "name": "stdout",
     "output_type": "stream",
     "text": [
      "Dokladnosc 0.9838709677419355\n"
     ]
    }
   ],
   "source": [
    "print (\"Dokladnosc\", metrics_lr.accuracy)"
   ]
  },
  {
   "cell_type": "code",
   "execution_count": 853,
   "id": "85c1f40a",
   "metadata": {},
   "outputs": [
    {
     "name": "stdout",
     "output_type": "stream",
     "text": [
      "Precyzja 1.0\n"
     ]
    }
   ],
   "source": [
    "print (\"Precyzja\", metrics_lr.precision(0.0))"
   ]
  },
  {
   "cell_type": "code",
   "execution_count": 854,
   "id": "314d7de4",
   "metadata": {},
   "outputs": [
    {
     "name": "stdout",
     "output_type": "stream",
     "text": [
      "Recall 0.9939393939393939\n"
     ]
    }
   ],
   "source": [
    "print (\"Recall\", metrics_lr.recall(0.0))"
   ]
  },
  {
   "cell_type": "code",
   "execution_count": 855,
   "id": "d745c102",
   "metadata": {},
   "outputs": [
    {
     "name": "stdout",
     "output_type": "stream",
     "text": [
      "wspolczynnik F1 0.9969604863221885\n"
     ]
    }
   ],
   "source": [
    "print (\"wspolczynnik F1\", metrics_lr.fMeasure(0.0))"
   ]
  },
  {
   "cell_type": "code",
   "execution_count": null,
   "id": "9168b922",
   "metadata": {},
   "outputs": [],
   "source": [
    "#Wniosek model predyckji jest idelany do tego zadania (patrz ocena), ale moze nie nadawac sie do np. predyckji innych chorob wartoby"
   ]
  }
 ],
 "metadata": {
  "kernelspec": {
   "display_name": "Python 3 (ipykernel)",
   "language": "python",
   "name": "python3"
  },
  "language_info": {
   "codemirror_mode": {
    "name": "ipython",
    "version": 3
   },
   "file_extension": ".py",
   "mimetype": "text/x-python",
   "name": "python",
   "nbconvert_exporter": "python",
   "pygments_lexer": "ipython3",
   "version": "3.8.12"
  }
 },
 "nbformat": 4,
 "nbformat_minor": 5
}
